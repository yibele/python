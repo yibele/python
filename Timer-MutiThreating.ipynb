{
 "cells": [
  {
   "cell_type": "code",
   "execution_count": 2,
   "metadata": {
    "collapsed": false,
    "deletable": true,
    "editable": true
   },
   "outputs": [],
   "source": [
    "import threading\n",
    "import time"
   ]
  },
  {
   "cell_type": "code",
   "execution_count": 3,
   "metadata": {
    "collapsed": true
   },
   "outputs": [],
   "source": [
    "tLock = threading.Lock()"
   ]
  },
  {
   "cell_type": "code",
   "execution_count": 5,
   "metadata": {
    "collapsed": true,
    "deletable": true,
    "editable": true
   },
   "outputs": [],
   "source": [
    "def timer(name,delay,repeat):\n",
    "    print('timer' + name + \"started\")\n",
    "    tLock.acquire()\n",
    "    while repeat >0:\n",
    "        time.sleep(delay)\n",
    "        print(name + \": \"+ str(time.ctime(time.time())))\n",
    "        repeat -=1\n",
    "    \n",
    "    print(name+\"is releasing the lock\")\n",
    "    tLock.release()\n",
    "    print('timer: '+ name +'complated')"
   ]
  },
  {
   "cell_type": "code",
   "execution_count": 6,
   "metadata": {
    "collapsed": true,
    "deletable": true,
    "editable": true
   },
   "outputs": [],
   "source": [
    "def Main():\n",
    "    t1 = threading.Thread(target=timer,args=(\"Timer1\",1,5))\n",
    "    t2 = threading.Thread(target=timer,args=(\"Timer2\",2,5))\n",
    "    t1.start()\n",
    "    t2.start()\n",
    "    \n",
    "    print(\"Main Completed\")"
   ]
  },
  {
   "cell_type": "code",
   "execution_count": 7,
   "metadata": {
    "collapsed": false,
    "deletable": true,
    "editable": true
   },
   "outputs": [
    {
     "name": "stdout",
     "output_type": "stream",
     "text": [
      "timerTimer2startedtimerTimer1startedMain Completed\n",
      "\n",
      "\n",
      "Timer2: Sat Apr 15 13:21:04 2017\n",
      "Timer2: Sat Apr 15 13:21:06 2017\n",
      "Timer2: Sat Apr 15 13:21:08 2017\n",
      "Timer2: Sat Apr 15 13:21:10 2017\n",
      "Timer2: Sat Apr 15 13:21:12 2017\n",
      "Timer2is releasing the lock\n",
      "timer: Timer2complated\n",
      "Timer1: Sat Apr 15 13:21:13 2017\n",
      "Timer1: Sat Apr 15 13:21:14 2017\n",
      "Timer1: Sat Apr 15 13:21:15 2017\n",
      "Timer1: Sat Apr 15 13:21:16 2017\n",
      "Timer1: Sat Apr 15 13:21:17 2017\n",
      "Timer1is releasing the lock\n",
      "timer: Timer1complated\n"
     ]
    }
   ],
   "source": [
    "if __name__ == '__main__':\n",
    "    Main()"
   ]
  },
  {
   "cell_type": "code",
   "execution_count": null,
   "metadata": {
    "collapsed": true,
    "deletable": true,
    "editable": true
   },
   "outputs": [],
   "source": []
  }
 ],
 "metadata": {
  "kernelspec": {
   "display_name": "Python 3",
   "language": "python",
   "name": "python3"
  },
  "language_info": {
   "codemirror_mode": {
    "name": "ipython",
    "version": 3
   },
   "file_extension": ".py",
   "mimetype": "text/x-python",
   "name": "python",
   "nbconvert_exporter": "python",
   "pygments_lexer": "ipython3",
   "version": "3.6.0"
  }
 },
 "nbformat": 4,
 "nbformat_minor": 2
}
