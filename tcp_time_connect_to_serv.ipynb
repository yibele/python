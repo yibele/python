{
 "cells": [
  {
   "cell_type": "code",
   "execution_count": null,
   "metadata": {
    "collapsed": true
   },
   "outputs": [],
   "source": [
    "import time\n",
    "from socket import *"
   ]
  },
  {
   "cell_type": "markdown",
   "metadata": {},
   "source": [
    "HOST ='172.19.208.253'\n",
    "PORT = 21567\n",
    "ADDR =(HOST,PORT)\n",
    "BUFSIZE = 1024\n"
   ]
  },
  {
   "cell_type": "code",
   "execution_count": null,
   "metadata": {
    "collapsed": true
   },
   "outputs": [],
   "source": [
    "s = socket(AF_INET,SOCK_STREAM)\n",
    "s.connect(ADDR)\n",
    "\n",
    "while True:\n",
    "    message = input('> ')\n",
    "    while message!='q':\n",
    "        s.send(message.encode('utf-8'))\n",
    "        data = s.recv(BUFSIZE).decode('utf-8')\n",
    "        print('Recide from server:'+data)\n",
    "    s.close()"
   ]
  },
  {
   "cell_type": "markdown",
   "metadata": {},
   "source": []
  }
 ],
 "metadata": {
  "kernelspec": {
   "display_name": "Python 3",
   "language": "python",
   "name": "python3"
  },
  "language_info": {
   "codemirror_mode": {
    "name": "ipython",
    "version": 3
   },
   "file_extension": ".py",
   "mimetype": "text/x-python",
   "name": "python",
   "nbconvert_exporter": "python",
   "pygments_lexer": "ipython3",
   "version": "3.6.0"
  }
 },
 "nbformat": 4,
 "nbformat_minor": 2
}
