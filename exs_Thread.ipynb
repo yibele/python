{
 "cells": [
  {
   "cell_type": "code",
   "execution_count": 2,
   "metadata": {
    "collapsed": false
   },
   "outputs": [],
   "source": [
    "import threading\n",
    "import time"
   ]
  },
  {
   "cell_type": "code",
   "execution_count": 18,
   "metadata": {
    "collapsed": false
   },
   "outputs": [],
   "source": [
    "class Aswriter(threading.Thread):\n",
    "    def __init__(self,text,out):\n",
    "        threading.Thread.__init__(self)\n",
    "        self.text = text\n",
    "        self.out = out\n",
    "    def run(self):\n",
    "        f = open(self.out,\"a\")\n",
    "        f.write(self.text +'\\n')\n",
    "        f.close()\n",
    "        time.sleep(3)\n",
    "        print(\"finish to write the thing\")\n",
    "        \n",
    "        "
   ]
  },
  {
   "cell_type": "code",
   "execution_count": 19,
   "metadata": {
    "collapsed": true
   },
   "outputs": [],
   "source": [
    "def Main():\n",
    "    text = input(\"请输入你想要写入的东西\")\n",
    "    background = Aswriter(text,'test1.txt')\n",
    "    print(\"正在写入中,请等待\")\n",
    "    background.start()\n",
    "    print(\"1\")\n",
    "    time.sleep(1)\n",
    "    print('2')\n",
    "    \n",
    "    background.join()\n",
    "    print(\"完成写入\")\n",
    "    "
   ]
  },
  {
   "cell_type": "code",
   "execution_count": 20,
   "metadata": {
    "collapsed": false
   },
   "outputs": [
    {
     "name": "stdout",
     "output_type": "stream",
     "text": [
      "请输入你想要写入的东西我正才测试线程方面的知识\n",
      "正在写入中,请等待\n",
      "1\n",
      "2\n",
      "finish to write the thing完成写入\n",
      "\n"
     ]
    }
   ],
   "source": [
    "if __name__=='__main__':\n",
    "    Main()"
   ]
  },
  {
   "cell_type": "code",
   "execution_count": null,
   "metadata": {
    "collapsed": true
   },
   "outputs": [],
   "source": []
  }
 ],
 "metadata": {
  "kernelspec": {
   "display_name": "Python 3",
   "language": "python",
   "name": "python3"
  },
  "language_info": {
   "codemirror_mode": {
    "name": "ipython",
    "version": 3
   },
   "file_extension": ".py",
   "mimetype": "text/x-python",
   "name": "python",
   "nbconvert_exporter": "python",
   "pygments_lexer": "ipython3",
   "version": "3.6.0"
  }
 },
 "nbformat": 4,
 "nbformat_minor": 2
}
