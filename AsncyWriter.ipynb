{
 "cells": [
  {
   "cell_type": "code",
   "execution_count": 1,
   "metadata": {
    "collapsed": true
   },
   "outputs": [],
   "source": [
    "import threading\n",
    "import time"
   ]
  },
  {
   "cell_type": "code",
   "execution_count": 3,
   "metadata": {
    "collapsed": true
   },
   "outputs": [],
   "source": [
    "class AsyncWrite(threading.Thread):\n",
    "    def __init__ (self,text,out):\n",
    "        threading.Thread.__init__(self)\n",
    "        self.text = text\n",
    "        self.out = out\n",
    "        \n",
    "    def run(self):\n",
    "        f = open(self.out, \"a\")\n",
    "        f.write(self.text + \"\\n\")\n",
    "        f.close()\n",
    "        time.sleep(2)\n",
    "        print(\"Finished Background File Write to\" + self.out)"
   ]
  },
  {
   "cell_type": "code",
   "execution_count": 4,
   "metadata": {
    "collapsed": true
   },
   "outputs": [],
   "source": [
    "def Main():\n",
    "    message = input(\"Enter a string to store:\")\n",
    "    background = AsyncWrite(message, \"out.txt\")\n",
    "    background.start()\n",
    "    print(\"The programe can continue while it write in another thread\")\n",
    "    print(\"100+400=\",100+400)\n",
    "    \n",
    "    background.join() # \n",
    "    print(\"Watited until thread was complete\")"
   ]
  },
  {
   "cell_type": "code",
   "execution_count": 5,
   "metadata": {
    "collapsed": false
   },
   "outputs": [
    {
     "name": "stdout",
     "output_type": "stream",
     "text": [
      "Enter a string to store:伊布格勒厉害的厉害\n",
      "The programe can continue while it write in another thread\n",
      "100+400= 500\n",
      "Finished Background File Write toout.txt\n",
      "Watited until thread was complete\n"
     ]
    }
   ],
   "source": [
    "if __name__ == '__main__':\n",
    "    Main()"
   ]
  },
  {
   "cell_type": "code",
   "execution_count": null,
   "metadata": {
    "collapsed": true
   },
   "outputs": [],
   "source": []
  }
 ],
 "metadata": {
  "kernelspec": {
   "display_name": "Python 3",
   "language": "python",
   "name": "python3"
  },
  "language_info": {
   "codemirror_mode": {
    "name": "ipython",
    "version": 3
   },
   "file_extension": ".py",
   "mimetype": "text/x-python",
   "name": "python",
   "nbconvert_exporter": "python",
   "pygments_lexer": "ipython3",
   "version": "3.6.0"
  }
 },
 "nbformat": 4,
 "nbformat_minor": 2
}
